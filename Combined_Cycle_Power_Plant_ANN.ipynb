{
 "cells": [
  {
   "cell_type": "markdown",
   "id": "1405b927",
   "metadata": {},
   "source": [
    "# Data was obtained from UCI Regression Database URL: https://archive.ics.uci.edu/dataset/294/combined+cycle+power+plant"
   ]
  },
  {
   "cell_type": "markdown",
   "id": "814c6fe5",
   "metadata": {},
   "source": [
    "### Import Libraries"
   ]
  },
  {
   "cell_type": "code",
   "execution_count": 1,
   "id": "a13a9931",
   "metadata": {},
   "outputs": [],
   "source": [
    "import numpy as np\n",
    "import pandas as pd\n",
    "import matplotlib.pyplot as plt\n",
    "import seaborn as sns\n",
    "import tensorflow as tk"
   ]
  },
  {
   "cell_type": "markdown",
   "id": "312a7b1b",
   "metadata": {},
   "source": [
    "## Part 1 Data Preprocessing"
   ]
  },
  {
   "cell_type": "markdown",
   "id": "0fda4295",
   "metadata": {},
   "source": [
    "### Import Dataset"
   ]
  },
  {
   "cell_type": "code",
   "execution_count": 2,
   "id": "87446c1d",
   "metadata": {},
   "outputs": [],
   "source": [
    "data = pd.read_excel('Folds5x2_pp.xlsx')"
   ]
  },
  {
   "cell_type": "code",
   "execution_count": 3,
   "id": "e819b6b4",
   "metadata": {},
   "outputs": [
    {
     "data": {
      "text/html": [
       "<div>\n",
       "<style scoped>\n",
       "    .dataframe tbody tr th:only-of-type {\n",
       "        vertical-align: middle;\n",
       "    }\n",
       "\n",
       "    .dataframe tbody tr th {\n",
       "        vertical-align: top;\n",
       "    }\n",
       "\n",
       "    .dataframe thead th {\n",
       "        text-align: right;\n",
       "    }\n",
       "</style>\n",
       "<table border=\"1\" class=\"dataframe\">\n",
       "  <thead>\n",
       "    <tr style=\"text-align: right;\">\n",
       "      <th></th>\n",
       "      <th>AT</th>\n",
       "      <th>V</th>\n",
       "      <th>AP</th>\n",
       "      <th>RH</th>\n",
       "      <th>PE</th>\n",
       "    </tr>\n",
       "  </thead>\n",
       "  <tbody>\n",
       "    <tr>\n",
       "      <th>0</th>\n",
       "      <td>14.96</td>\n",
       "      <td>41.76</td>\n",
       "      <td>1024.07</td>\n",
       "      <td>73.17</td>\n",
       "      <td>463.26</td>\n",
       "    </tr>\n",
       "    <tr>\n",
       "      <th>1</th>\n",
       "      <td>25.18</td>\n",
       "      <td>62.96</td>\n",
       "      <td>1020.04</td>\n",
       "      <td>59.08</td>\n",
       "      <td>444.37</td>\n",
       "    </tr>\n",
       "    <tr>\n",
       "      <th>2</th>\n",
       "      <td>5.11</td>\n",
       "      <td>39.40</td>\n",
       "      <td>1012.16</td>\n",
       "      <td>92.14</td>\n",
       "      <td>488.56</td>\n",
       "    </tr>\n",
       "    <tr>\n",
       "      <th>3</th>\n",
       "      <td>20.86</td>\n",
       "      <td>57.32</td>\n",
       "      <td>1010.24</td>\n",
       "      <td>76.64</td>\n",
       "      <td>446.48</td>\n",
       "    </tr>\n",
       "    <tr>\n",
       "      <th>4</th>\n",
       "      <td>10.82</td>\n",
       "      <td>37.50</td>\n",
       "      <td>1009.23</td>\n",
       "      <td>96.62</td>\n",
       "      <td>473.90</td>\n",
       "    </tr>\n",
       "    <tr>\n",
       "      <th>...</th>\n",
       "      <td>...</td>\n",
       "      <td>...</td>\n",
       "      <td>...</td>\n",
       "      <td>...</td>\n",
       "      <td>...</td>\n",
       "    </tr>\n",
       "    <tr>\n",
       "      <th>9563</th>\n",
       "      <td>16.65</td>\n",
       "      <td>49.69</td>\n",
       "      <td>1014.01</td>\n",
       "      <td>91.00</td>\n",
       "      <td>460.03</td>\n",
       "    </tr>\n",
       "    <tr>\n",
       "      <th>9564</th>\n",
       "      <td>13.19</td>\n",
       "      <td>39.18</td>\n",
       "      <td>1023.67</td>\n",
       "      <td>66.78</td>\n",
       "      <td>469.62</td>\n",
       "    </tr>\n",
       "    <tr>\n",
       "      <th>9565</th>\n",
       "      <td>31.32</td>\n",
       "      <td>74.33</td>\n",
       "      <td>1012.92</td>\n",
       "      <td>36.48</td>\n",
       "      <td>429.57</td>\n",
       "    </tr>\n",
       "    <tr>\n",
       "      <th>9566</th>\n",
       "      <td>24.48</td>\n",
       "      <td>69.45</td>\n",
       "      <td>1013.86</td>\n",
       "      <td>62.39</td>\n",
       "      <td>435.74</td>\n",
       "    </tr>\n",
       "    <tr>\n",
       "      <th>9567</th>\n",
       "      <td>21.60</td>\n",
       "      <td>62.52</td>\n",
       "      <td>1017.23</td>\n",
       "      <td>67.87</td>\n",
       "      <td>453.28</td>\n",
       "    </tr>\n",
       "  </tbody>\n",
       "</table>\n",
       "<p>9568 rows × 5 columns</p>\n",
       "</div>"
      ],
      "text/plain": [
       "         AT      V       AP     RH      PE\n",
       "0     14.96  41.76  1024.07  73.17  463.26\n",
       "1     25.18  62.96  1020.04  59.08  444.37\n",
       "2      5.11  39.40  1012.16  92.14  488.56\n",
       "3     20.86  57.32  1010.24  76.64  446.48\n",
       "4     10.82  37.50  1009.23  96.62  473.90\n",
       "...     ...    ...      ...    ...     ...\n",
       "9563  16.65  49.69  1014.01  91.00  460.03\n",
       "9564  13.19  39.18  1023.67  66.78  469.62\n",
       "9565  31.32  74.33  1012.92  36.48  429.57\n",
       "9566  24.48  69.45  1013.86  62.39  435.74\n",
       "9567  21.60  62.52  1017.23  67.87  453.28\n",
       "\n",
       "[9568 rows x 5 columns]"
      ]
     },
     "execution_count": 3,
     "metadata": {},
     "output_type": "execute_result"
    }
   ],
   "source": [
    "data"
   ]
  },
  {
   "cell_type": "code",
   "execution_count": 4,
   "id": "0e1ae83e",
   "metadata": {},
   "outputs": [],
   "source": [
    "X = data.iloc[:, :-1].values\n",
    "y = data.iloc[:, -1].values"
   ]
  },
  {
   "cell_type": "markdown",
   "id": "0fa86775",
   "metadata": {},
   "source": [
    "### Split into Training and Test sets"
   ]
  },
  {
   "cell_type": "code",
   "execution_count": 6,
   "id": "d7fc1769",
   "metadata": {},
   "outputs": [],
   "source": [
    "from sklearn.model_selection import train_test_split\n",
    "X_train, X_test, y_train, y_test = train_test_split(X, y, test_size = 0.2, random_state = 0)"
   ]
  },
  {
   "cell_type": "markdown",
   "id": "1dd22a7c",
   "metadata": {},
   "source": [
    "## Building the ANN"
   ]
  },
  {
   "cell_type": "code",
   "execution_count": 7,
   "id": "ca9ca125",
   "metadata": {},
   "outputs": [],
   "source": [
    "ann = tk.keras.models.Sequential()"
   ]
  },
  {
   "cell_type": "markdown",
   "id": "6c39467a",
   "metadata": {},
   "source": [
    "### 1st layer"
   ]
  },
  {
   "cell_type": "code",
   "execution_count": 9,
   "id": "3c52c1c9",
   "metadata": {},
   "outputs": [],
   "source": [
    "ann.add(tk.keras.layers.Dense(units = 6, activation = 'relu'))"
   ]
  },
  {
   "cell_type": "markdown",
   "id": "2adf95d9",
   "metadata": {},
   "source": [
    "### 2nd layer"
   ]
  },
  {
   "cell_type": "code",
   "execution_count": 10,
   "id": "9e27bfa5",
   "metadata": {},
   "outputs": [],
   "source": [
    "ann.add(tk.keras.layers.Dense(units = 6, activation = 'relu'))"
   ]
  },
  {
   "cell_type": "markdown",
   "id": "e0db6d86",
   "metadata": {},
   "source": [
    "### Output layer"
   ]
  },
  {
   "cell_type": "code",
   "execution_count": 11,
   "id": "cdee7c70",
   "metadata": {},
   "outputs": [],
   "source": [
    "ann.add(tk.keras.layers.Dense(units = 1))\n",
    "\n",
    "# Sigmoid is for classification & binary, Softmax for more than 2 variables, for regression no need for activation"
   ]
  },
  {
   "cell_type": "markdown",
   "id": "263e6d44",
   "metadata": {},
   "source": [
    "## Training the ANN"
   ]
  },
  {
   "cell_type": "markdown",
   "id": "8d99ab99",
   "metadata": {},
   "source": [
    "### Compiling ANN"
   ]
  },
  {
   "cell_type": "code",
   "execution_count": 12,
   "id": "8215eead",
   "metadata": {},
   "outputs": [],
   "source": [
    "ann.compile(optimizer = 'adam', loss = 'mean_squared_error')\n",
    "\n",
    "# for non binary data =  categorical_crossentropy, for regression = mean_squared_error, binary = binary_crossentropy"
   ]
  },
  {
   "cell_type": "code",
   "execution_count": 13,
   "id": "b0e0a766",
   "metadata": {},
   "outputs": [
    {
     "name": "stdout",
     "output_type": "stream",
     "text": [
      "Epoch 1/100\n",
      "240/240 [==============================] - 1s 2ms/step - loss: 112931.6328\n",
      "Epoch 2/100\n",
      "240/240 [==============================] - 0s 2ms/step - loss: 1438.3091\n",
      "Epoch 3/100\n",
      "240/240 [==============================] - 0s 1ms/step - loss: 376.6384\n",
      "Epoch 4/100\n",
      "240/240 [==============================] - 0s 1ms/step - loss: 365.1881\n",
      "Epoch 5/100\n",
      "240/240 [==============================] - 0s 1ms/step - loss: 352.2372\n",
      "Epoch 6/100\n",
      "240/240 [==============================] - 0s 1ms/step - loss: 337.0919\n",
      "Epoch 7/100\n",
      "240/240 [==============================] - 0s 2ms/step - loss: 320.3932\n",
      "Epoch 8/100\n",
      "240/240 [==============================] - 0s 1ms/step - loss: 302.3394\n",
      "Epoch 9/100\n",
      "240/240 [==============================] - 0s 1ms/step - loss: 283.4592\n",
      "Epoch 10/100\n",
      "240/240 [==============================] - 0s 1ms/step - loss: 262.9034\n",
      "Epoch 11/100\n",
      "240/240 [==============================] - 0s 1ms/step - loss: 242.8682\n",
      "Epoch 12/100\n",
      "240/240 [==============================] - 0s 2ms/step - loss: 221.4945\n",
      "Epoch 13/100\n",
      "240/240 [==============================] - 0s 2ms/step - loss: 201.2486\n",
      "Epoch 14/100\n",
      "240/240 [==============================] - 0s 2ms/step - loss: 181.1791\n",
      "Epoch 15/100\n",
      "240/240 [==============================] - 0s 2ms/step - loss: 161.7862\n",
      "Epoch 16/100\n",
      "240/240 [==============================] - 0s 2ms/step - loss: 143.9035\n",
      "Epoch 17/100\n",
      "240/240 [==============================] - 0s 2ms/step - loss: 126.9088\n",
      "Epoch 18/100\n",
      "240/240 [==============================] - 0s 2ms/step - loss: 111.6723\n",
      "Epoch 19/100\n",
      "240/240 [==============================] - 0s 2ms/step - loss: 98.3022\n",
      "Epoch 20/100\n",
      "240/240 [==============================] - 0s 2ms/step - loss: 86.9810\n",
      "Epoch 21/100\n",
      "240/240 [==============================] - 0s 2ms/step - loss: 76.8952\n",
      "Epoch 22/100\n",
      "240/240 [==============================] - 0s 2ms/step - loss: 68.8303\n",
      "Epoch 23/100\n",
      "240/240 [==============================] - 0s 2ms/step - loss: 61.5856\n",
      "Epoch 24/100\n",
      "240/240 [==============================] - 0s 2ms/step - loss: 55.6569\n",
      "Epoch 25/100\n",
      "240/240 [==============================] - 0s 2ms/step - loss: 50.7629\n",
      "Epoch 26/100\n",
      "240/240 [==============================] - 0s 2ms/step - loss: 47.2213\n",
      "Epoch 27/100\n",
      "240/240 [==============================] - 0s 2ms/step - loss: 43.3366\n",
      "Epoch 28/100\n",
      "240/240 [==============================] - 0s 2ms/step - loss: 40.9326\n",
      "Epoch 29/100\n",
      "240/240 [==============================] - 0s 2ms/step - loss: 38.4261\n",
      "Epoch 30/100\n",
      "240/240 [==============================] - 0s 2ms/step - loss: 36.8944\n",
      "Epoch 31/100\n",
      "240/240 [==============================] - 0s 2ms/step - loss: 35.4296\n",
      "Epoch 32/100\n",
      "240/240 [==============================] - 0s 2ms/step - loss: 34.1528\n",
      "Epoch 33/100\n",
      "240/240 [==============================] - 0s 2ms/step - loss: 33.4463\n",
      "Epoch 34/100\n",
      "240/240 [==============================] - 1s 3ms/step - loss: 32.4579\n",
      "Epoch 35/100\n",
      "240/240 [==============================] - 1s 2ms/step - loss: 31.8226\n",
      "Epoch 36/100\n",
      "240/240 [==============================] - 1s 2ms/step - loss: 31.3807\n",
      "Epoch 37/100\n",
      "240/240 [==============================] - 0s 2ms/step - loss: 30.4537\n",
      "Epoch 38/100\n",
      "240/240 [==============================] - 0s 2ms/step - loss: 30.8342\n",
      "Epoch 39/100\n",
      "240/240 [==============================] - 0s 2ms/step - loss: 30.3834\n",
      "Epoch 40/100\n",
      "240/240 [==============================] - 0s 2ms/step - loss: 29.3840\n",
      "Epoch 41/100\n",
      "240/240 [==============================] - 0s 2ms/step - loss: 29.2428\n",
      "Epoch 42/100\n",
      "240/240 [==============================] - 0s 2ms/step - loss: 29.4113\n",
      "Epoch 43/100\n",
      "240/240 [==============================] - 1s 2ms/step - loss: 28.7380\n",
      "Epoch 44/100\n",
      "240/240 [==============================] - 0s 2ms/step - loss: 28.2091\n",
      "Epoch 45/100\n",
      "240/240 [==============================] - 0s 2ms/step - loss: 28.0706\n",
      "Epoch 46/100\n",
      "240/240 [==============================] - 0s 2ms/step - loss: 27.8980\n",
      "Epoch 47/100\n",
      "240/240 [==============================] - 0s 2ms/step - loss: 27.9511\n",
      "Epoch 48/100\n",
      "240/240 [==============================] - 0s 2ms/step - loss: 27.8485\n",
      "Epoch 49/100\n",
      "240/240 [==============================] - 0s 2ms/step - loss: 27.4100\n",
      "Epoch 50/100\n",
      "240/240 [==============================] - 0s 2ms/step - loss: 27.5385\n",
      "Epoch 51/100\n",
      "240/240 [==============================] - 0s 2ms/step - loss: 27.4719\n",
      "Epoch 52/100\n",
      "240/240 [==============================] - 0s 2ms/step - loss: 27.1221\n",
      "Epoch 53/100\n",
      "240/240 [==============================] - 0s 2ms/step - loss: 27.0199\n",
      "Epoch 54/100\n",
      "240/240 [==============================] - 0s 2ms/step - loss: 27.1204\n",
      "Epoch 55/100\n",
      "240/240 [==============================] - 0s 2ms/step - loss: 27.0115\n",
      "Epoch 56/100\n",
      "240/240 [==============================] - 0s 2ms/step - loss: 26.9384\n",
      "Epoch 57/100\n",
      "240/240 [==============================] - 0s 2ms/step - loss: 26.7213\n",
      "Epoch 58/100\n",
      "240/240 [==============================] - 0s 2ms/step - loss: 26.7630\n",
      "Epoch 59/100\n",
      "240/240 [==============================] - 0s 2ms/step - loss: 26.4961\n",
      "Epoch 60/100\n",
      "240/240 [==============================] - 0s 2ms/step - loss: 26.9762\n",
      "Epoch 61/100\n",
      "240/240 [==============================] - 0s 2ms/step - loss: 26.5886\n",
      "Epoch 62/100\n",
      "240/240 [==============================] - 0s 1ms/step - loss: 27.0656\n",
      "Epoch 63/100\n",
      "240/240 [==============================] - 0s 1ms/step - loss: 26.8623\n",
      "Epoch 64/100\n",
      "240/240 [==============================] - 0s 1ms/step - loss: 26.5493\n",
      "Epoch 65/100\n",
      "240/240 [==============================] - 0s 2ms/step - loss: 26.6955\n",
      "Epoch 66/100\n",
      "240/240 [==============================] - 0s 2ms/step - loss: 26.5354\n",
      "Epoch 67/100\n",
      "240/240 [==============================] - 0s 2ms/step - loss: 27.1175\n",
      "Epoch 68/100\n",
      "240/240 [==============================] - 1s 2ms/step - loss: 26.6238\n",
      "Epoch 69/100\n",
      "240/240 [==============================] - 0s 2ms/step - loss: 26.7334\n",
      "Epoch 70/100\n",
      "240/240 [==============================] - 0s 2ms/step - loss: 26.5649\n",
      "Epoch 71/100\n",
      "240/240 [==============================] - 1s 2ms/step - loss: 26.6177\n",
      "Epoch 72/100\n",
      "240/240 [==============================] - 1s 2ms/step - loss: 26.5541\n",
      "Epoch 73/100\n",
      "240/240 [==============================] - 0s 2ms/step - loss: 26.6585\n",
      "Epoch 74/100\n",
      "240/240 [==============================] - 0s 2ms/step - loss: 26.8115\n",
      "Epoch 75/100\n",
      "240/240 [==============================] - 0s 2ms/step - loss: 26.3446\n",
      "Epoch 76/100\n",
      "240/240 [==============================] - 0s 2ms/step - loss: 26.5666\n",
      "Epoch 77/100\n",
      "240/240 [==============================] - 0s 2ms/step - loss: 26.3630\n",
      "Epoch 78/100\n",
      "240/240 [==============================] - 0s 2ms/step - loss: 26.4983\n",
      "Epoch 79/100\n",
      "240/240 [==============================] - 0s 2ms/step - loss: 26.4391\n",
      "Epoch 80/100\n",
      "240/240 [==============================] - 0s 2ms/step - loss: 26.6853\n",
      "Epoch 81/100\n",
      "240/240 [==============================] - 0s 2ms/step - loss: 26.2049\n",
      "Epoch 82/100\n",
      "240/240 [==============================] - 0s 1ms/step - loss: 26.6446\n",
      "Epoch 83/100\n",
      "240/240 [==============================] - 0s 1ms/step - loss: 27.4077\n",
      "Epoch 84/100\n",
      "240/240 [==============================] - 0s 1ms/step - loss: 26.4713\n",
      "Epoch 85/100\n",
      "240/240 [==============================] - 0s 2ms/step - loss: 26.4168\n",
      "Epoch 86/100\n",
      "240/240 [==============================] - 0s 2ms/step - loss: 26.9943\n",
      "Epoch 87/100\n",
      "240/240 [==============================] - 0s 2ms/step - loss: 27.0206\n",
      "Epoch 88/100\n",
      "240/240 [==============================] - 0s 2ms/step - loss: 26.7957\n",
      "Epoch 89/100\n",
      "240/240 [==============================] - 0s 2ms/step - loss: 26.7902\n",
      "Epoch 90/100\n",
      "240/240 [==============================] - 0s 2ms/step - loss: 26.8177\n",
      "Epoch 91/100\n",
      "240/240 [==============================] - 0s 2ms/step - loss: 26.7812\n",
      "Epoch 92/100\n",
      "240/240 [==============================] - 0s 2ms/step - loss: 26.3195\n",
      "Epoch 93/100\n",
      "240/240 [==============================] - 0s 2ms/step - loss: 26.2217\n",
      "Epoch 94/100\n",
      "240/240 [==============================] - 0s 2ms/step - loss: 26.8079\n",
      "Epoch 95/100\n",
      "240/240 [==============================] - 0s 2ms/step - loss: 26.6201\n",
      "Epoch 96/100\n",
      "240/240 [==============================] - 0s 2ms/step - loss: 26.5408\n",
      "Epoch 97/100\n",
      "240/240 [==============================] - 0s 2ms/step - loss: 26.6953\n",
      "Epoch 98/100\n"
     ]
    },
    {
     "name": "stdout",
     "output_type": "stream",
     "text": [
      "240/240 [==============================] - 0s 2ms/step - loss: 26.3554\n",
      "Epoch 99/100\n",
      "240/240 [==============================] - 0s 2ms/step - loss: 26.4478\n",
      "Epoch 100/100\n",
      "240/240 [==============================] - 0s 2ms/step - loss: 26.3695\n"
     ]
    },
    {
     "data": {
      "text/plain": [
       "<keras.src.callbacks.History at 0x26bcc11eaf0>"
      ]
     },
     "execution_count": 13,
     "metadata": {},
     "output_type": "execute_result"
    }
   ],
   "source": [
    "ann.fit(X_train, y_train, batch_size = 32, epochs = 100)"
   ]
  },
  {
   "cell_type": "markdown",
   "id": "3136d096",
   "metadata": {},
   "source": [
    "## Prediction of Test set"
   ]
  },
  {
   "cell_type": "code",
   "execution_count": 14,
   "id": "68d8b3cd",
   "metadata": {},
   "outputs": [
    {
     "name": "stdout",
     "output_type": "stream",
     "text": [
      "60/60 [==============================] - 0s 1ms/step\n",
      "[[430.67 431.23]\n",
      " [461.66 460.01]\n",
      " [465.14 461.14]\n",
      " ...\n",
      " [472.37 473.26]\n",
      " [439.24 438.  ]\n",
      " [458.41 463.28]]\n"
     ]
    }
   ],
   "source": [
    "y_pred = ann.predict(X_test)\n",
    "np.set_printoptions(precision = 2)\n",
    "print(np.concatenate((y_pred.reshape(len(y_pred),1), y_test.reshape(len(y_test), 1)), 1))"
   ]
  }
 ],
 "metadata": {
  "kernelspec": {
   "display_name": "Python 3 (ipykernel)",
   "language": "python",
   "name": "python3"
  },
  "language_info": {
   "codemirror_mode": {
    "name": "ipython",
    "version": 3
   },
   "file_extension": ".py",
   "mimetype": "text/x-python",
   "name": "python",
   "nbconvert_exporter": "python",
   "pygments_lexer": "ipython3",
   "version": "3.9.13"
  }
 },
 "nbformat": 4,
 "nbformat_minor": 5
}
